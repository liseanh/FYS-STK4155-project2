{
 "cells": [
  {
   "cell_type": "code",
   "execution_count": null,
   "metadata": {},
   "outputs": [],
   "source": [
    "import numpy as np \n",
    "from main import LogisticRegression "
   ]
  },
  {
   "cell_type": "code",
   "execution_count": null,
   "metadata": {
    "scrolled": true
   },
   "outputs": [],
   "source": [
    "X = np.load(\"data/design_matrix_credit.npy\")\n",
    "y = np.load(\"data/targets_credit.npy\")\n",
    "# print(X)\n",
    "# exit()\n",
    "a = LogisticRegression(learning_rate=1e-4, n_iterations=20000)\n",
    "X_train, X_test, y_train, y_test = a.preprocessing(X, y)\n",
    "a.fit(X_train, y_train)\n",
    "print(a.accuracy_score(X_train, y_train))\n",
    "print(a.accuracy_score(X_test, y_test))\n",
    "print(np.mean(y))\n"
   ]
  }
 ],
 "metadata": {
  "kernelspec": {
   "display_name": "my-virtualenv-name",
   "language": "python",
   "name": "my-virtualenv-name"
  },
  "language_info": {
   "codemirror_mode": {
    "name": "ipython",
    "version": 3
   },
   "file_extension": ".py",
   "mimetype": "text/x-python",
   "name": "python",
   "nbconvert_exporter": "python",
   "pygments_lexer": "ipython3",
   "version": "3.6.9"
  }
 },
 "nbformat": 4,
 "nbformat_minor": 2
}
