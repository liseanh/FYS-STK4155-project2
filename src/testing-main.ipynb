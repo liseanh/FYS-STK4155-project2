{
 "cells": [
  {
   "cell_type": "code",
   "execution_count": 1,
   "metadata": {},
   "outputs": [],
   "source": [
    "import numpy as np \n",
    "from main import LogisticRegression "
   ]
  },
  {
   "cell_type": "code",
   "execution_count": 2,
   "metadata": {
    "scrolled": true
   },
   "outputs": [
    {
     "name": "stdout",
     "output_type": "stream",
     "text": [
      "0.8091044776119403\n",
      "0.8123232323232323\n",
      "0.2212 0.22119402985074627 0.22121212121212122\n"
     ]
    }
   ],
   "source": [
    "X = np.load(\"data/design_matrix_credit.npy\")\n",
    "y = np.load(\"data/targets_credit.npy\")\n",
    "# print(X)\n",
    "# exit()\n",
    "a = LogisticRegression(learning_rate=1e-6)\n",
    "X_train, X_test, y_train, y_test = a.preprocessing(X, y)\n",
    "a.fit(X_train, y_train)\n",
    "print(a.accuracy_score(X_train, y_train))\n",
    "print(a.accuracy_score(X_test, y_test))\n",
    "print(np.mean(y), np.mean(y_train), np.mean(y_test))\n"
   ]
  },
  {
   "cell_type": "code",
   "execution_count": 54,
   "metadata": {},
   "outputs": [
    {
     "name": "stdout",
     "output_type": "stream",
     "text": [
      "[[1.0000e+00 0.0000e+00 1.0000e+00 ... 2.2301e+04 0.0000e+00 3.6400e+03]\n",
      " [1.0000e+00 0.0000e+00 1.0000e+00 ... 6.3200e+02 3.1600e+02 0.0000e+00]\n",
      " [1.0000e+00 0.0000e+00 1.0000e+00 ... 3.0430e+04 2.5700e+02 0.0000e+00]\n",
      " ...\n",
      " [1.0000e+00 1.0000e+00 0.0000e+00 ... 0.0000e+00 3.5200e+03 0.0000e+00]\n",
      " [1.0000e+00 1.0000e+00 0.0000e+00 ... 0.0000e+00 0.0000e+00 0.0000e+00]\n",
      " [1.0000e+00 1.0000e+00 0.0000e+00 ... 7.0000e+03 0.0000e+00 4.0000e+03]]\n"
     ]
    }
   ],
   "source": [
    "print(np.load(\"data/design_matrix_credit.npy\"))"
   ]
  }
 ],
 "metadata": {
  "kernelspec": {
   "display_name": "my_virtualenv_name",
   "language": "python",
   "name": "my_virtualenv_name"
  },
  "language_info": {
   "codemirror_mode": {
    "name": "ipython",
    "version": 3
   },
   "file_extension": ".py",
   "mimetype": "text/x-python",
   "name": "python",
   "nbconvert_exporter": "python",
   "pygments_lexer": "ipython3",
   "version": "3.6.7"
  }
 },
 "nbformat": 4,
 "nbformat_minor": 2
}
